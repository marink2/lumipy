{
 "cells": [
  {
   "cell_type": "code",
   "execution_count": null,
   "metadata": {},
   "outputs": [],
   "source": [
    "import matplotlib.pyplot as plt\n",
    "from matplotlib.gridspec import GridSpec\n",
    "from scipy.integrate import simps\n",
    "import matplotlib.ticker as ticker"
   ]
  },
  {
   "cell_type": "code",
   "execution_count": null,
   "metadata": {},
   "outputs": [],
   "source": [
    "import numpy as np\n",
    "from scipy import interpolate\n",
    "\n",
    "\n",
    "def dvr(r, e, mu, interp=False):\n",
    "    \"\"\"\n",
    "    Discrete Value Representation (DVR) 1-Dimensional\n",
    "\n",
    "        r   : (array) potential surface position values\n",
    "        e   : (array) potential surface energy values\n",
    "        mu  : (float) reduce mass\n",
    "    \"\"\"\n",
    "\n",
    "    if interp:\n",
    "        cs = interpolate.CubicSpline(r, e)\n",
    "        r_new = np.linspace(r[0], r[-1], 500)\n",
    "        e_new = cs(r_new)\n",
    "\n",
    "        r = r_new\n",
    "        e = e_new\n",
    "\n",
    "    N = len(r)\n",
    "    mp = (r[1] - r[0])\n",
    "\n",
    "    H = np.ndarray((N,N), dtype=\"float\")\n",
    "\n",
    "    for i in range(N):\n",
    "        for j in range(N):\n",
    "            if(i == j):\n",
    "                H[i][j] = (1 / (2 * mu * mp**2)) * (np.pi**2 / 3) + e[i]\n",
    "\n",
    "            else:\n",
    "                H[i][j] = (-1)**(i - j) * (1 / (2 * mu * mp**2)) * (2/ (i-j)**2)\n",
    "\n",
    "    Ev, eigvec = np.linalg.eigh(H)\n",
    "    Cv = eigvec.transpose()\n",
    "    \n",
    "    return [r, e, Cv, Ev]"
   ]
  },
  {
   "cell_type": "code",
   "execution_count": null,
   "metadata": {},
   "outputs": [],
   "source": [
    "data_0 = np.loadtxt('test/n2_gs.txt', delimiter=',')\n",
    "data_g = np.loadtxt('test/n2_ex_g.txt', delimiter=',')\n",
    "data_u = np.loadtxt('test/n2_ex_u.txt', delimiter=',')\n",
    "\n",
    "r_0 = data_0[:, 0] * 1.88973\n",
    "e_0 = data_0[:, 1]\n",
    "\n",
    "r_g = data_g[:, 0] * 1.88973\n",
    "e_g = data_g[:, 1]\n",
    "\n",
    "r_u = data_u[:, 0] * 1.88973\n",
    "e_u = data_u[:, 1]\n",
    "\n",
    "mu = (25526.042373971035 * 25526.042373971035) / (2*25526.042373971035)\n",
    "\n",
    "r_0, e_0, Cv_0, Ev_0 = dvr(r_0, e_0, mu, interp=True)\n",
    "r_g, e_g, Cv_g, Ev_g = dvr(r_g, e_g, mu, interp=True)\n",
    "r_u, e_u, Cv_u, Ev_u = dvr(r_u, e_u, mu, interp=True)"
   ]
  },
  {
   "cell_type": "code",
   "execution_count": null,
   "metadata": {},
   "outputs": [],
   "source": [
    "plt.rcParams.update({'font.size': 6})\n",
    "plt.rcParams['axes.linewidth'] = 0.4\n",
    "plt.rcParams['xtick.major.size'] = 2\n",
    "plt.rcParams['xtick.major.width'] = 0.4\n",
    "plt.rcParams['ytick.major.size'] = 2\n",
    "plt.rcParams['ytick.major.width'] = 0.4\n",
    "plt.rcParams['ytick.minor.size'] = 1\n",
    "plt.rcParams['ytick.minor.width'] = 0.2\n",
    "\n",
    "n = 1\n",
    "\n",
    "sf = 0.1\n",
    "shift_plot = -15\n",
    "\n",
    "fig = plt.figure(figsize=(2.5, 4), dpi=300)\n",
    "gs = GridSpec(1, 1)\n",
    "\n",
    "###################################################################################\n",
    "#----------------------------------------------------------------------------------\n",
    "# Plot 1: Ground State\n",
    "#----------------------------------------------------------------------------------\n",
    "###################################################################################\n",
    "\n",
    "ax1 = fig.add_subplot(gs[0])\n",
    "ax1.plot(r_0 / 1.88973, e_0, linewidth=0.4, color='k')\n",
    "ax1.plot(r_0 / 1.88973, sf * Cv_0[0] + Ev_0[0], linewidth=0.4, color='cornflowerblue')\n",
    "\n",
    "ax1.plot(r_g / 1.88973, e_g + shift_plot, linewidth=0.4, color='orange')\n",
    "ax1.plot(r_g / 1.88973, sf * Cv_g[n] + Ev_g[n] + shift_plot, linewidth=0.4, color='cornflowerblue')\n",
    "\n",
    "ax1.plot(r_u / 1.88973, e_u + shift_plot, linewidth=0.4, color='green')\n",
    "ax1.plot(r_u / 1.88973, sf * Cv_u[n] + Ev_u[n] + shift_plot, linewidth=0.4, color='cornflowerblue')\n",
    "\n",
    "\n",
    "ax1.vlines(r_g[np.argmin(e_0)] / 1.88973, np.min(e_0) - 0.01, np.min(e_0) + 0.01, colors='r', linewidths=0.4)\n",
    "ax1.vlines(r_g[np.argmin(e_g)] / 1.88973, np.min(e_0) - 0.01, np.min(e_0) + 0.06, colors='r', linewidths=0.4)\n",
    "\n",
    "# Axis Labels and Limits\n",
    "#----------------------------------------------------------------------------------\n",
    "\n",
    "fig.align_ylabels()\n",
    "plt.tight_layout(pad=0.5)\n",
    "plt.show()"
   ]
  },
  {
   "cell_type": "code",
   "execution_count": null,
   "metadata": {},
   "outputs": [],
   "source": [
    "def moorse(r, D=1, a=1, re=1, y=0):\n",
    "    y = D * (1-np.exp(-a * (r-re) ))**2 + y\n",
    "    return y"
   ]
  },
  {
   "cell_type": "code",
   "execution_count": null,
   "metadata": {},
   "outputs": [],
   "source": [
    "De_g = 67887.4285714286 * (1 / 219474.63)\n",
    "re_g = r_g[np.argmin(e_g)]\n",
    "a_g = 1.6\n",
    "\n",
    "r_mor_start = r_g[0]\n",
    "r_mor_end = 5\n",
    "\n",
    "r_mor = np.linspace(r_mor_start, r_mor_end, 500)\n",
    "e_mor = moorse(r_mor, D=De_g, a=a_g, re=re_g, y=np.min(e_g))\n",
    "\n",
    "r_mor, e_mor, Cv_mor, Ev_mor = dvr(r_mor, e_mor, mu, interp=False)"
   ]
  },
  {
   "cell_type": "code",
   "execution_count": null,
   "metadata": {},
   "outputs": [],
   "source": [
    "plt.plot(r_g, e_g)\n",
    "plt.plot(r_mor, e_mor)"
   ]
  },
  {
   "cell_type": "code",
   "execution_count": null,
   "metadata": {},
   "outputs": [],
   "source": []
  },
  {
   "cell_type": "code",
   "execution_count": null,
   "metadata": {},
   "outputs": [],
   "source": [
    "plt.plot(r_0 / 1.88973, Cv_0[0], linewidth=0.4, color='k')\n",
    "plt.plot(r_0 / 1.88973, Cv_0[1], linewidth=0.4, color='gray')\n",
    "plt.plot(r_g / 1.88973, Cv_g[0], linewidth=0.4, color='cornflowerblue')\n",
    "plt.plot(r_g / 1.88973, Cv_g[1], linewidth=0.4, color='orange')\n",
    "\n",
    "plt.plot(r_g / 1.88973, Cv_0[0] * Cv_g[0], linewidth=0.4, color='cornflowerblue', linestyle=\"--\")\n",
    "plt.plot(r_g / 1.88973, Cv_0[0] * Cv_g[1], linewidth=0.4, color='orange', linestyle=\"--\")\n",
    "plt.plot(r_g / 1.88973, Cv_0[0] * Cv_0[1], linewidth=0.4, color='gray', linestyle=\"--\")\n",
    "\n",
    "plt.hlines(0, 0, 2, color='r')\n",
    "plt.vlines(r_g[np.argmax(Cv_0[0])] / 1.88973, -0.18, 0.18, color='r')\n",
    "\n",
    "plt.xlim(0.8, 1.4)"
   ]
  },
  {
   "cell_type": "code",
   "execution_count": null,
   "metadata": {},
   "outputs": [],
   "source": [
    "def franck_condon_factors(r, wfn_0, wfn_v):\n",
    "    \"\"\" \n",
    "    Compute Franck-Condon factors from two vibrational wavefunction overlap\n",
    "\n",
    "        wfn_0 : (array) vibrational wavefunction\n",
    "        wfn_v : (array) vibrational wavefunction\n",
    "    \"\"\"\n",
    "    N0 = np.sqrt(simps(wfn_0 * wfn_0, r))\n",
    "    Nv = np.sqrt(simps(wfn_v * wfn_v, r))\n",
    "\n",
    "    prod = wfn_0 / N0 * wfn_v / Nv\n",
    "    fc = simps(prod, r)\n",
    "\n",
    "    return fc"
   ]
  },
  {
   "cell_type": "code",
   "execution_count": null,
   "metadata": {},
   "outputs": [],
   "source": [
    "S00 = franck_condon_factors(r_0, Cv_0[0], Cv_mor[0])\n",
    "S01 = franck_condon_factors(r_0, Cv_0[0], Cv_mor[1])\n",
    "\n",
    "S00u = franck_condon_factors(r_0, Cv_0[0], Cv_u[0])\n",
    "S01u = franck_condon_factors(r_0, Cv_0[0], Cv_u[1])\n",
    "\n",
    "\n",
    "E00 = 0\n",
    "E01 = 1"
   ]
  },
  {
   "cell_type": "code",
   "execution_count": null,
   "metadata": {},
   "outputs": [],
   "source": [
    "plt.vlines(np.array([E00, E01]) * 27.2114, [0,0], [S00, S01])\n",
    "plt.hlines(1, 0, 28, color='k')"
   ]
  },
  {
   "cell_type": "code",
   "execution_count": null,
   "metadata": {},
   "outputs": [],
   "source": [
    "plt.figure(figsize=(6, 3))\n",
    "\n",
    "gshift = -((Ev_u[0] - Ev_0[0]) * 27.2114  - 409.9) + 0.04\n",
    "\n",
    "plt.vlines((Ev_g[0] - Ev_0[0]) * 27.2114 + gshift, 0, S00)\n",
    "plt.vlines((Ev_u[0] - Ev_0[0]) * 27.2114 + gshift, 0, S00u)\n",
    "\n",
    "plt.vlines((Ev_g[1] - Ev_0[0]) * 27.2114 + gshift, 0, S01, colors='orange')\n",
    "plt.vlines((Ev_u[1] - Ev_0[0]) * 27.2114 + gshift, 0, S01u, colors='orange')\n",
    "\n",
    "plt.gca().xaxis.set_ticks([409.5, 409.7, 409.9, 410.1, 410.3, 410.5])\n",
    "\n",
    "plt.xlim(409.5, 410.5)\n",
    "plt.ylim(0, 1.6)"
   ]
  },
  {
   "cell_type": "code",
   "execution_count": null,
   "metadata": {},
   "outputs": [],
   "source": []
  },
  {
   "cell_type": "code",
   "execution_count": null,
   "metadata": {},
   "outputs": [],
   "source": []
  },
  {
   "cell_type": "code",
   "execution_count": null,
   "metadata": {},
   "outputs": [],
   "source": []
  },
  {
   "cell_type": "code",
   "execution_count": null,
   "metadata": {},
   "outputs": [],
   "source": []
  },
  {
   "cell_type": "code",
   "execution_count": null,
   "metadata": {},
   "outputs": [],
   "source": []
  },
  {
   "cell_type": "code",
   "execution_count": null,
   "metadata": {},
   "outputs": [],
   "source": []
  },
  {
   "cell_type": "code",
   "execution_count": null,
   "metadata": {},
   "outputs": [],
   "source": []
  },
  {
   "cell_type": "code",
   "execution_count": null,
   "metadata": {},
   "outputs": [],
   "source": []
  },
  {
   "cell_type": "code",
   "execution_count": null,
   "metadata": {},
   "outputs": [],
   "source": [
    "import numpy as np\n",
    "import matplotlib.pyplot as plt\n",
    "\n",
    "def lorentz(e, f, y=0.2, scale=1, bounds=None, offset=None, npts=10000):\n",
    "    \"\"\"\n",
    "    Lorentzian convolution function\n",
    "        e       : energy values, can be given as a number or array of numbers\n",
    "        f       : intensity values, can be given as a number or array of numbers\n",
    "        y       : gamma broadening factor (FWHM)\n",
    "        scale   : scaling factor\n",
    "        bounds  : (min, max) range for energy axis\n",
    "        offset  : extension beyond bounds\n",
    "        npts    : number of points on energy axis\n",
    "    \"\"\"\n",
    "\n",
    "    e = np.asarray(e)\n",
    "    f = np.asarray(f)\n",
    "\n",
    "    if e.shape != f.shape:\n",
    "        raise ValueError(f'e and f must have same dimension, but have shapes {e.shape} and {f.shape}')\n",
    "\n",
    "    # make spectrum range\n",
    "    s = offset or (4 * y)\n",
    "    b = bounds or (e.min(), e.max())\n",
    "    x = np.linspace(b[0] - s, b[1] + s, npts)\n",
    "\n",
    "    # compute lorentzian spectrum\n",
    "    spectrum = scale * f[..., np.newaxis] * (0.5 * y / np.pi) / (0.25 * y**2 + (x - e[..., np.newaxis])**2)\n",
    "\n",
    "    return x, spectrum.squeeze()"
   ]
  },
  {
   "cell_type": "code",
   "execution_count": 35,
   "metadata": {},
   "outputs": [
    {
     "name": "stdout",
     "output_type": "stream",
     "text": [
      "(10000,)\n",
      "(3, 10000)\n"
     ]
    }
   ],
   "source": [
    "a = np.array([1,2,3])\n",
    "b = np.array([10,2,30])\n",
    "x, s = lorentz(a, b, y=0.2)\n",
    "\n",
    "print(x.shape)\n",
    "print(s.shape)\n",
    "\n",
    "# plt.plot(x, s.T, color='r', linewidth=0.6, linestyle='--')\n",
    "# plt.plot(x, s.sum(0), color='k', linewidth=0.6)\n",
    "# plt.vlines(a, 0, b, color='r', linewidth=0.6)"
   ]
  },
  {
   "cell_type": "code",
   "execution_count": 36,
   "metadata": {},
   "outputs": [
    {
     "name": "stdout",
     "output_type": "stream",
     "text": [
      "(10000,)\n",
      "(2, 3, 10000)\n"
     ]
    }
   ],
   "source": [
    "a = np.array([[1,2,3], [1,2,3]])\n",
    "b = np.array([[10,2,30], [10,1,30]])\n",
    "x, s = lorentz(a, b, y=0.2)\n",
    "\n",
    "print(x.shape)\n",
    "print(s.shape)"
   ]
  },
  {
   "cell_type": "code",
   "execution_count": 37,
   "metadata": {},
   "outputs": [
    {
     "name": "stdout",
     "output_type": "stream",
     "text": [
      "(10000,)\n",
      "(10000,)\n"
     ]
    }
   ],
   "source": [
    "a = np.array([1])\n",
    "b = np.array([10])\n",
    "x, s = lorentz(a, b, y=0.2)\n",
    "\n",
    "print(x.shape)\n",
    "print(s.shape)"
   ]
  },
  {
   "cell_type": "code",
   "execution_count": 38,
   "metadata": {},
   "outputs": [
    {
     "ename": "TypeError",
     "evalue": "len() of unsized object",
     "output_type": "error",
     "traceback": [
      "\u001b[0;31m---------------------------------------------------------------------------\u001b[0m",
      "\u001b[0;31mTypeError\u001b[0m                                 Traceback (most recent call last)",
      "Cell \u001b[0;32mIn[38], line 3\u001b[0m\n\u001b[1;32m      1\u001b[0m a \u001b[38;5;241m=\u001b[39m np\u001b[38;5;241m.\u001b[39marray(\u001b[38;5;241m1\u001b[39m)\n\u001b[1;32m      2\u001b[0m b \u001b[38;5;241m=\u001b[39m np\u001b[38;5;241m.\u001b[39marray(\u001b[38;5;241m10\u001b[39m)\n\u001b[0;32m----> 3\u001b[0m x, s \u001b[38;5;241m=\u001b[39m \u001b[43mlorentz\u001b[49m\u001b[43m(\u001b[49m\u001b[43ma\u001b[49m\u001b[43m,\u001b[49m\u001b[43m \u001b[49m\u001b[43mb\u001b[49m\u001b[43m,\u001b[49m\u001b[43m \u001b[49m\u001b[43my\u001b[49m\u001b[38;5;241;43m=\u001b[39;49m\u001b[38;5;241;43m0.2\u001b[39;49m\u001b[43m)\u001b[49m\n\u001b[1;32m      5\u001b[0m \u001b[38;5;28mprint\u001b[39m(x\u001b[38;5;241m.\u001b[39mshape)\n\u001b[1;32m      6\u001b[0m \u001b[38;5;28mprint\u001b[39m(s\u001b[38;5;241m.\u001b[39mshape)\n",
      "Cell \u001b[0;32mIn[34], line 19\u001b[0m, in \u001b[0;36mlorentz\u001b[0;34m(e, f, y, scale, bounds, offset, npts)\u001b[0m\n\u001b[1;32m     16\u001b[0m e \u001b[38;5;241m=\u001b[39m np\u001b[38;5;241m.\u001b[39masarray(e)\n\u001b[1;32m     17\u001b[0m f \u001b[38;5;241m=\u001b[39m np\u001b[38;5;241m.\u001b[39masarray(f)\n\u001b[0;32m---> 19\u001b[0m \u001b[38;5;28;01mif\u001b[39;00m \u001b[38;5;28;43mlen\u001b[39;49m\u001b[43m(\u001b[49m\u001b[43me\u001b[49m\u001b[43m)\u001b[49m \u001b[38;5;241m!=\u001b[39m \u001b[38;5;28mlen\u001b[39m(f):\u001b[38;5;66;03m#np.shape(e) != np.shape(f):\u001b[39;00m\n\u001b[1;32m     20\u001b[0m     \u001b[38;5;28;01mraise\u001b[39;00m \u001b[38;5;167;01mValueError\u001b[39;00m(\u001b[38;5;124mf\u001b[39m\u001b[38;5;124m'\u001b[39m\u001b[38;5;124me and f must have same dimension, but have shapes \u001b[39m\u001b[38;5;132;01m{\u001b[39;00mnp\u001b[38;5;241m.\u001b[39mshape(e)\u001b[38;5;132;01m}\u001b[39;00m\u001b[38;5;124m and \u001b[39m\u001b[38;5;132;01m{\u001b[39;00mnp\u001b[38;5;241m.\u001b[39mshape(f)\u001b[38;5;132;01m}\u001b[39;00m\u001b[38;5;124m'\u001b[39m)\n\u001b[1;32m     22\u001b[0m \u001b[38;5;66;03m# make spectrum range\u001b[39;00m\n",
      "\u001b[0;31mTypeError\u001b[0m: len() of unsized object"
     ]
    }
   ],
   "source": [
    "a = np.array(1)\n",
    "b = np.array(10)\n",
    "x, s = lorentz(a, b, y=0.2)\n",
    "\n",
    "print(x.shape)\n",
    "print(s.shape)"
   ]
  },
  {
   "cell_type": "code",
   "execution_count": 33,
   "metadata": {},
   "outputs": [
    {
     "name": "stdout",
     "output_type": "stream",
     "text": [
      "(10000,)\n",
      "(2, 2, 2, 10000)\n"
     ]
    }
   ],
   "source": [
    "a = np.array([[[1,2], [1,2]], [[1,2], [1,2]]])\n",
    "b = np.array([[[1,2], [1,2]], [[1,2], [1,2]]])\n",
    "x, s = lorentz(a, b, y=0.2)\n",
    "\n",
    "print(x.shape)\n",
    "print(s.shape)"
   ]
  },
  {
   "cell_type": "code",
   "execution_count": 41,
   "metadata": {},
   "outputs": [
    {
     "data": {
      "text/plain": [
       "()"
      ]
     },
     "execution_count": 41,
     "metadata": {},
     "output_type": "execute_result"
    }
   ],
   "source": [
    "np.asarray(10).shape"
   ]
  },
  {
   "cell_type": "code",
   "execution_count": null,
   "metadata": {},
   "outputs": [],
   "source": []
  }
 ],
 "metadata": {
  "kernelspec": {
   "display_name": "forte",
   "language": "python",
   "name": "python3"
  },
  "language_info": {
   "codemirror_mode": {
    "name": "ipython",
    "version": 3
   },
   "file_extension": ".py",
   "mimetype": "text/x-python",
   "name": "python",
   "nbconvert_exporter": "python",
   "pygments_lexer": "ipython3",
   "version": "3.10.11"
  }
 },
 "nbformat": 4,
 "nbformat_minor": 2
}
