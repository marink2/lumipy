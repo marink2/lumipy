{
 "cells": [
  {
   "cell_type": "markdown",
   "id": "7f5feca3",
   "metadata": {},
   "source": [
    "lumipy is a collection of python based functions for plotting different kinds of spectra! 🕯️\n",
    "\n",
    "The following tutorials will help guide you in understanding the various functionalities and ways on how to use lumipy. PLease see docs for specifics on function parameters and return types."
   ]
  },
  {
   "cell_type": "code",
   "execution_count": 2,
   "id": "d786716f",
   "metadata": {},
   "outputs": [],
   "source": [
    "import lumipy as lp\n",
    "import matplotlib.pyplot as plt"
   ]
  },
  {
   "cell_type": "markdown",
   "id": "ca78630b",
   "metadata": {},
   "source": [
    "Plotting Lorentz convolution spectra is easy an convinient with the Lorentz function! This function computes individual lorentz curves as follows:\n",
    "$$\n",
    "\\mathrm{L}{\\left(\\epsilon_i, f_i\\right)} = \\frac{\\gamma f_i}{2\\pi(\\frac{\\gamma^2}{4} + (\\epsilon - \\epsilon_i)^2)}\n",
    "$$"
   ]
  },
  {
   "cell_type": "code",
   "execution_count": 3,
   "id": "4fe46839",
   "metadata": {},
   "outputs": [],
   "source": [
    "## compute the lorentz curve for one energy/intesity data point\n",
    "x, s = lp.lorentz(200.5, 0.3)"
   ]
  },
  {
   "cell_type": "code",
   "execution_count": null,
   "id": "9bf82b7a",
   "metadata": {},
   "outputs": [],
   "source": []
  },
  {
   "cell_type": "markdown",
   "id": "cbc57347",
   "metadata": {},
   "source": [
    "Building on Lorentz convolutions, the tempo function allows you to plot energy and intensity data values with a time dependance.\n",
    "$$\n",
    "\\left[ \\mathrm{L}_{t_1},\\; \\mathrm{L}_{t_2},\\; \\mathrm{L}_{t_3},\\; \\dots\\right]\n",
    "$$\n",
    "Use this funciton to create time-resolved spectra!"
   ]
  }
 ],
 "metadata": {
  "kernelspec": {
   "display_name": "forte",
   "language": "python",
   "name": "python3"
  },
  "language_info": {
   "codemirror_mode": {
    "name": "ipython",
    "version": 3
   },
   "file_extension": ".py",
   "mimetype": "text/x-python",
   "name": "python",
   "nbconvert_exporter": "python",
   "pygments_lexer": "ipython3",
   "version": "3.10.11"
  }
 },
 "nbformat": 4,
 "nbformat_minor": 5
}
